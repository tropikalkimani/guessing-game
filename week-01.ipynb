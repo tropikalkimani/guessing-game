#guessing game
from random import randint
from IPython.display import clear_output
guessed = False
number = randint(0, 100)
guesses = 0
while not guessed:
   ans = input("Try to guess the number I am thinking of!") 
   # use tab to indent

  guesses += 1
  clear_output( )
  if int(ans) == number:
        print("Congrats! You guessed it correctly.") 
        # use tab twice to indent twice
        print( "It took you { } guesses!".format(guesses) )
        break

elif int(ans) > number:
      print("The number is lower than what you guessed.")

elif int(ans) < number:
      print("The number is greater than what you guessed.")
